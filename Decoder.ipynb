{
  "cells": [
    {
      "cell_type": "code",
      "source": [
        "from itertools import product\n",
        "\n",
        "!pip install pymorphy2\n",
        "import pymorphy2"
      ],
      "metadata": {
        "id": "pgutURpFGixE",
        "outputId": "4b5a541d-5826-4f59-b8d5-b54b2976d3c3",
        "colab": {
          "base_uri": "https://localhost:8080/"
        }
      },
      "execution_count": 1,
      "outputs": [
        {
          "output_type": "stream",
          "name": "stdout",
          "text": [
            "Requirement already satisfied: pymorphy2 in /usr/local/lib/python3.10/dist-packages (0.9.1)\n",
            "Requirement already satisfied: dawg-python>=0.7.1 in /usr/local/lib/python3.10/dist-packages (from pymorphy2) (0.7.2)\n",
            "Requirement already satisfied: pymorphy2-dicts-ru<3.0,>=2.4 in /usr/local/lib/python3.10/dist-packages (from pymorphy2) (2.4.417127.4579844)\n",
            "Requirement already satisfied: docopt>=0.6 in /usr/local/lib/python3.10/dist-packages (from pymorphy2) (0.6.2)\n"
          ]
        }
      ]
    },
    {
      "cell_type": "code",
      "source": [
        "import string"
      ],
      "metadata": {
        "id": "Q0rZffRuL87o"
      },
      "execution_count": 2,
      "outputs": []
    },
    {
      "cell_type": "code",
      "source": [
        "d = dict()\n",
        "with open(\"raw.githubusercontent.com_danakt_russian-words_master_russian.txt\", encoding=\"cp1251\") as file:\n",
        "    for line in file:\n",
        "        d[line[:-1]] = 1"
      ],
      "metadata": {
        "id": "WJIntJocVi7m"
      },
      "execution_count": 3,
      "outputs": []
    },
    {
      "cell_type": "code",
      "source": [
        "msg = \"одолжение домик лента стержень клен линолеум\"\n",
        "words = msg.translate(str.maketrans('', '', string.punctuation)).split()\n",
        "letter_lists = [list(word) for word in words]\n",
        "combinations = list(product(*letter_lists))\n",
        "concatenated_combinations = [''.join(combination) for combination in combinations]\n",
        "\n",
        "def is_meaningful_russian_word(word):\n",
        "  return d.get(word) != None\n",
        "\n",
        "results = []\n",
        "llll = [0, 1, 6, 4, 7, 1, 5, 2, 4, 6, 2, 6, 6]\n",
        "lengthy = [0, 1, 7, 11, 18, 19, 24, 26, 30, 36, 38, 44, 50]\n",
        "lengths = [0, 10]\n",
        "for x in concatenated_combinations:\n",
        "  i = 1\n",
        "  for y in range(0, len(lengths) - 1):\n",
        "    if is_meaningful_russian_word(x[lengths[y]:lengths[y+1]]):\n",
        "      i = i - 1\n",
        "  if i == 0:\n",
        "    results.append(x)\n",
        "\n",
        "results"
      ],
      "metadata": {
        "id": "_fTt1Bz6Is2f"
      },
      "execution_count": null,
      "outputs": []
    }
  ],
  "metadata": {
    "colab": {
      "name": "Добро пожаловать в Colaboratory!",
      "provenance": []
    },
    "kernelspec": {
      "display_name": "Python 3",
      "name": "python3"
    }
  },
  "nbformat": 4,
  "nbformat_minor": 0
}